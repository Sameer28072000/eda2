{
 "cells": [
  {
   "cell_type": "markdown",
   "id": "884178a2-69e4-4bb9-86ec-62629662e704",
   "metadata": {},
   "source": [
    "Flight Price:"
   ]
  },
  {
   "cell_type": "markdown",
   "id": "8536cf3e-6ace-46d1-a5cc-884798f70084",
   "metadata": {},
   "source": [
    "Q1. Load the flight price dataset and examine its dimensions. How many rows and columns does the\n",
    "dataset have?"
   ]
  },
  {
   "cell_type": "code",
   "execution_count": 25,
   "id": "19d0ebe1-c778-42cc-939e-df74464d7496",
   "metadata": {},
   "outputs": [],
   "source": [
    "import pandas as pd\n",
    "import matplotlib.pyplot as plt\n",
    "import seaborn as sns"
   ]
  },
  {
   "cell_type": "code",
   "execution_count": 26,
   "id": "12c54121-8611-4b63-8fc4-f0aafe08ecfb",
   "metadata": {},
   "outputs": [],
   "source": [
    "df=pd.read_excel('flight_price.xlsx')"
   ]
  },
  {
   "cell_type": "code",
   "execution_count": 27,
   "id": "e4c39cb8-1f30-4b4e-a636-cdfb6eba7b7b",
   "metadata": {},
   "outputs": [
    {
     "data": {
      "text/html": [
       "<div>\n",
       "<style scoped>\n",
       "    .dataframe tbody tr th:only-of-type {\n",
       "        vertical-align: middle;\n",
       "    }\n",
       "\n",
       "    .dataframe tbody tr th {\n",
       "        vertical-align: top;\n",
       "    }\n",
       "\n",
       "    .dataframe thead th {\n",
       "        text-align: right;\n",
       "    }\n",
       "</style>\n",
       "<table border=\"1\" class=\"dataframe\">\n",
       "  <thead>\n",
       "    <tr style=\"text-align: right;\">\n",
       "      <th></th>\n",
       "      <th>Airline</th>\n",
       "      <th>Date_of_Journey</th>\n",
       "      <th>Source</th>\n",
       "      <th>Destination</th>\n",
       "      <th>Route</th>\n",
       "      <th>Dep_Time</th>\n",
       "      <th>Arrival_Time</th>\n",
       "      <th>Duration</th>\n",
       "      <th>Total_Stops</th>\n",
       "      <th>Additional_Info</th>\n",
       "      <th>Price</th>\n",
       "    </tr>\n",
       "  </thead>\n",
       "  <tbody>\n",
       "    <tr>\n",
       "      <th>0</th>\n",
       "      <td>IndiGo</td>\n",
       "      <td>24/03/2019</td>\n",
       "      <td>Banglore</td>\n",
       "      <td>New Delhi</td>\n",
       "      <td>BLR → DEL</td>\n",
       "      <td>22:20</td>\n",
       "      <td>01:10 22 Mar</td>\n",
       "      <td>2h 50m</td>\n",
       "      <td>non-stop</td>\n",
       "      <td>No info</td>\n",
       "      <td>3897</td>\n",
       "    </tr>\n",
       "    <tr>\n",
       "      <th>1</th>\n",
       "      <td>Air India</td>\n",
       "      <td>1/05/2019</td>\n",
       "      <td>Kolkata</td>\n",
       "      <td>Banglore</td>\n",
       "      <td>CCU → IXR → BBI → BLR</td>\n",
       "      <td>05:50</td>\n",
       "      <td>13:15</td>\n",
       "      <td>7h 25m</td>\n",
       "      <td>2 stops</td>\n",
       "      <td>No info</td>\n",
       "      <td>7662</td>\n",
       "    </tr>\n",
       "  </tbody>\n",
       "</table>\n",
       "</div>"
      ],
      "text/plain": [
       "     Airline Date_of_Journey    Source Destination                  Route  \\\n",
       "0     IndiGo      24/03/2019  Banglore   New Delhi              BLR → DEL   \n",
       "1  Air India       1/05/2019   Kolkata    Banglore  CCU → IXR → BBI → BLR   \n",
       "\n",
       "  Dep_Time  Arrival_Time Duration Total_Stops Additional_Info  Price  \n",
       "0    22:20  01:10 22 Mar   2h 50m    non-stop         No info   3897  \n",
       "1    05:50         13:15   7h 25m     2 stops         No info   7662  "
      ]
     },
     "execution_count": 27,
     "metadata": {},
     "output_type": "execute_result"
    }
   ],
   "source": [
    "df.head(2)"
   ]
  },
  {
   "cell_type": "code",
   "execution_count": 28,
   "id": "29237c6b-31ac-488d-b313-2fe17fa65996",
   "metadata": {},
   "outputs": [
    {
     "data": {
      "text/html": [
       "<div>\n",
       "<style scoped>\n",
       "    .dataframe tbody tr th:only-of-type {\n",
       "        vertical-align: middle;\n",
       "    }\n",
       "\n",
       "    .dataframe tbody tr th {\n",
       "        vertical-align: top;\n",
       "    }\n",
       "\n",
       "    .dataframe thead th {\n",
       "        text-align: right;\n",
       "    }\n",
       "</style>\n",
       "<table border=\"1\" class=\"dataframe\">\n",
       "  <thead>\n",
       "    <tr style=\"text-align: right;\">\n",
       "      <th></th>\n",
       "      <th>Airline</th>\n",
       "      <th>Date_of_Journey</th>\n",
       "      <th>Source</th>\n",
       "      <th>Destination</th>\n",
       "      <th>Route</th>\n",
       "      <th>Dep_Time</th>\n",
       "      <th>Arrival_Time</th>\n",
       "      <th>Duration</th>\n",
       "      <th>Total_Stops</th>\n",
       "      <th>Additional_Info</th>\n",
       "      <th>Price</th>\n",
       "    </tr>\n",
       "  </thead>\n",
       "  <tbody>\n",
       "    <tr>\n",
       "      <th>10681</th>\n",
       "      <td>Vistara</td>\n",
       "      <td>01/03/2019</td>\n",
       "      <td>Banglore</td>\n",
       "      <td>New Delhi</td>\n",
       "      <td>BLR → DEL</td>\n",
       "      <td>11:30</td>\n",
       "      <td>14:10</td>\n",
       "      <td>2h 40m</td>\n",
       "      <td>non-stop</td>\n",
       "      <td>No info</td>\n",
       "      <td>12648</td>\n",
       "    </tr>\n",
       "    <tr>\n",
       "      <th>10682</th>\n",
       "      <td>Air India</td>\n",
       "      <td>9/05/2019</td>\n",
       "      <td>Delhi</td>\n",
       "      <td>Cochin</td>\n",
       "      <td>DEL → GOI → BOM → COK</td>\n",
       "      <td>10:55</td>\n",
       "      <td>19:15</td>\n",
       "      <td>8h 20m</td>\n",
       "      <td>2 stops</td>\n",
       "      <td>No info</td>\n",
       "      <td>11753</td>\n",
       "    </tr>\n",
       "  </tbody>\n",
       "</table>\n",
       "</div>"
      ],
      "text/plain": [
       "         Airline Date_of_Journey    Source Destination                  Route  \\\n",
       "10681    Vistara      01/03/2019  Banglore   New Delhi              BLR → DEL   \n",
       "10682  Air India       9/05/2019     Delhi      Cochin  DEL → GOI → BOM → COK   \n",
       "\n",
       "      Dep_Time Arrival_Time Duration Total_Stops Additional_Info  Price  \n",
       "10681    11:30        14:10   2h 40m    non-stop         No info  12648  \n",
       "10682    10:55        19:15   8h 20m     2 stops         No info  11753  "
      ]
     },
     "execution_count": 28,
     "metadata": {},
     "output_type": "execute_result"
    }
   ],
   "source": [
    "df.tail(2)"
   ]
  },
  {
   "cell_type": "code",
   "execution_count": 29,
   "id": "2e999649-3198-4437-82d6-00779edfbfed",
   "metadata": {},
   "outputs": [
    {
     "data": {
      "text/plain": [
       "(10683, 11)"
      ]
     },
     "execution_count": 29,
     "metadata": {},
     "output_type": "execute_result"
    }
   ],
   "source": [
    "df.shape"
   ]
  },
  {
   "cell_type": "markdown",
   "id": "55feb637-777d-4021-903d-19d3a454fc42",
   "metadata": {},
   "source": [
    "Q2. What is the distribution of flight prices in the dataset? Create a histogram to visualize the\n",
    "distribution."
   ]
  },
  {
   "cell_type": "code",
   "execution_count": 30,
   "id": "ea1c8d88-5d23-4df5-8068-e72e1a58ca56",
   "metadata": {},
   "outputs": [
    {
     "data": {
      "text/plain": [
       "(array([1., 0., 0., 0., 0., 1., 0., 0., 0., 1.]),\n",
       " array([0. , 0.2, 0.4, 0.6, 0.8, 1. , 1.2, 1.4, 1.6, 1.8, 2. ]),\n",
       " <BarContainer object of 10 artists>)"
      ]
     },
     "execution_count": 30,
     "metadata": {},
     "output_type": "execute_result"
    },
    {
     "data": {
      "image/png": "[encoded data removed]",
      "text/plain": [
       "<Figure size 1000x500 with 1 Axes>"
      ]
     },
     "metadata": {},
     "output_type": "display_data"
    }
   ],
   "source": [
    "plt.figure(figsize=(10,5))\n",
    "x=['Airline','Date_of_Journey','Source']\n",
    "plt.hist(x,bins=10)"
   ]
  },
  {
   "cell_type": "markdown",
   "id": "ed64c9ca-3051-4257-9613-da7ad9aa3e57",
   "metadata": {},
   "source": [
    "Q3. What is the range of prices in the dataset? What is the minimum and maximum price?"
   ]
  },
  {
   "cell_type": "code",
   "execution_count": null,
   "id": "deb9622e-bca0-4727-9cc9-4189fa801096",
   "metadata": {},
   "outputs": [],
   "source": [
    "Ans:-\n",
    "The range of price are (3897 to 11753)\n",
    "min. price----->3897\n",
    "max. price------>11753"
   ]
  },
  {
   "cell_type": "markdown",
   "id": "2edf50ce-0ef2-4a50-8a84-1a5306db43ff",
   "metadata": {},
   "source": [
    "Q4. How does the price of flights vary by airline? Create a boxplot to compare the prices of different\n",
    "airlines."
   ]
  },
  {
   "cell_type": "code",
   "execution_count": 35,
   "id": "99a53e2f-c5a7-4a01-b0fc-51f09bd408d9",
   "metadata": {},
   "outputs": [
    {
     "data": {
      "image/png": "[encoded data removed]",
      "text/plain": [
       "<Figure size 1000x500 with 1 Axes>"
      ]
     },
     "metadata": {},
     "output_type": "display_data"
    }
   ],
   "source": [
    "plt.figure(figsize=(10,5))\n",
    "sns.boxplot(x='Airline',y='Price',data=df.sort_values('Price',ascending=False))\n",
    "plt.show()"
   ]
  },
  {
   "cell_type": "markdown",
   "id": "9bbb27a1-e36d-4e7e-b969-833238849e43",
   "metadata": {},
   "source": [
    "Q5. Are there any outliers in the dataset? Identify any potential outliers using a boxplot and describe how\n",
    "they may impact your analysis."
   ]
  },
  {
   "cell_type": "code",
   "execution_count": null,
   "id": "b10e97c5-6eaa-4050-8745-6fc57efa4f0c",
   "metadata": {},
   "outputs": [],
   "source": [
    "Ans:-yes outlier is present in the dataset.Airline_Jet Airways Business have more outliers as compare to other.\n",
    "to handle outlier use imputation technique mean,median."
   ]
  },
  {
   "cell_type": "markdown",
   "id": "94caf96d-aed9-4a2d-93ce-84328c8881de",
   "metadata": {},
   "source": [
    "Q6. You are working for a travel agency, and your boss has asked you to analyze the Flight Price dataset\n",
    "to identify the peak travel season. What features would you analyze to identify the peak season, and how\n",
    "would you present your findings to your boss?"
   ]
  },
  {
   "cell_type": "code",
   "execution_count": null,
   "id": "fcad1b72-7043-4667-b254-4275a5fddea3",
   "metadata": {},
   "outputs": [],
   "source": [
    "Ans:-\n",
    "i.Date Time \n",
    "ii.Holiday & Events\n",
    "iii.Seasonality\n",
    "iv.Flight Route \n",
    "v.Destination\n",
    "\n",
    "Once you have analyzed these features, you can present your findings to your boss in the form of visulation he will understand easily."
   ]
  },
  {
   "cell_type": "markdown",
   "id": "2ed94e52-170e-4da9-aa65-322093b43f46",
   "metadata": {},
   "source": [
    "Q7. You are a data analyst for a flight booking website, and you have been asked to analyze the Flight\n",
    "Price dataset to identify any trends in flight prices. What features would you analyze to identify these\n",
    "trends, and what visualizations would you use to present your findings to your team?"
   ]
  },
  {
   "cell_type": "code",
   "execution_count": null,
   "id": "d44a7d8b-3d0b-4a6e-9196-442ab1bb97ec",
   "metadata": {},
   "outputs": [],
   "source": [
    "Ans:-\n",
    "As a Data Analyst you have see the data & then clean,feature selection.\n",
    "After complited all these process we generatge a report in the form of visualization.Anyone can understand easily.\n",
    "Then share to your team."
   ]
  },
  {
   "cell_type": "markdown",
   "id": "36c55d1c-a2b6-4452-8ec4-67b4230a8758",
   "metadata": {},
   "source": [
    "Q8. You are a data scientist working for an airline company, and you have been asked to analyze the\n",
    "Flight Price dataset to identify the factors that affect flight prices. What features would you analyze to\n",
    "identify these factors, and how would you present your findings to the management team?"
   ]
  },
  {
   "cell_type": "code",
   "execution_count": null,
   "id": "4982ffd5-36d1-4b20-a9b6-81615c8d384f",
   "metadata": {},
   "outputs": [],
   "source": [
    "Ans:-\n",
    "Data Scientist work is to collect  meaningful insight from the raw data.\n",
    "Data Aalyst this share the report to data scientist will analyze the data they will give meaningful insights."
   ]
  },
  {
   "cell_type": "markdown",
   "id": "b293ea15-385d-4969-9d56-a85d7fa015f6",
   "metadata": {},
   "source": [
    "Google Playstore:"
   ]
  },
  {
   "cell_type": "markdown",
   "id": "39e98e4e-7c1d-45ca-893e-d5822f4c9584",
   "metadata": {},
   "source": [
    "Q9. Load the Google Playstore dataset and examine its dimensions. How many rows and columns does\n",
    "the dataset have?"
   ]
  },
  {
   "cell_type": "code",
   "execution_count": 2,
   "id": "cbf148ed-5bc1-473e-bf45-afd03149cc3a",
   "metadata": {},
   "outputs": [],
   "source": [
    "import pandas as pd"
   ]
  },
  {
   "cell_type": "code",
   "execution_count": 3,
   "id": "aea12093-3f66-4936-b5bd-37fcd4869c91",
   "metadata": {},
   "outputs": [],
   "source": [
    "df=pd.read_csv('https://raw.githubusercontent.com/krishnaik06/playstore-Dataset/main/googleplaystore.csv')"
   ]
  },
  {
   "cell_type": "code",
   "execution_count": 4,
   "id": "15f9f0c2-1b54-4edb-9996-f805cbf2761a",
   "metadata": {},
   "outputs": [
    {
     "data": {
      "text/html": [
       "<div>\n",
       "<style scoped>\n",
       "    .dataframe tbody tr th:only-of-type {\n",
       "        vertical-align: middle;\n",
       "    }\n",
       "\n",
       "    .dataframe tbody tr th {\n",
       "        vertical-align: top;\n",
       "    }\n",
       "\n",
       "    .dataframe thead th {\n",
       "        text-align: right;\n",
       "    }\n",
       "</style>\n",
       "<table border=\"1\" class=\"dataframe\">\n",
       "  <thead>\n",
       "    <tr style=\"text-align: right;\">\n",
       "      <th></th>\n",
       "      <th>App</th>\n",
       "      <th>Category</th>\n",
       "      <th>Rating</th>\n",
       "      <th>Reviews</th>\n",
       "      <th>Size</th>\n",
       "      <th>Installs</th>\n",
       "      <th>Type</th>\n",
       "      <th>Price</th>\n",
       "      <th>Content Rating</th>\n",
       "      <th>Genres</th>\n",
       "      <th>Last Updated</th>\n",
       "      <th>Current Ver</th>\n",
       "      <th>Android Ver</th>\n",
       "    </tr>\n",
       "  </thead>\n",
       "  <tbody>\n",
       "    <tr>\n",
       "      <th>0</th>\n",
       "      <td>Photo Editor &amp; Candy Camera &amp; Grid &amp; ScrapBook</td>\n",
       "      <td>ART_AND_DESIGN</td>\n",
       "      <td>4.1</td>\n",
       "      <td>159</td>\n",
       "      <td>19M</td>\n",
       "      <td>10,000+</td>\n",
       "      <td>Free</td>\n",
       "      <td>0</td>\n",
       "      <td>Everyone</td>\n",
       "      <td>Art &amp; Design</td>\n",
       "      <td>January 7, 2018</td>\n",
       "      <td>1.0.0</td>\n",
       "      <td>4.0.3 and up</td>\n",
       "    </tr>\n",
       "    <tr>\n",
       "      <th>1</th>\n",
       "      <td>Coloring book moana</td>\n",
       "      <td>ART_AND_DESIGN</td>\n",
       "      <td>3.9</td>\n",
       "      <td>967</td>\n",
       "      <td>14M</td>\n",
       "      <td>500,000+</td>\n",
       "      <td>Free</td>\n",
       "      <td>0</td>\n",
       "      <td>Everyone</td>\n",
       "      <td>Art &amp; Design;Pretend Play</td>\n",
       "      <td>January 15, 2018</td>\n",
       "      <td>2.0.0</td>\n",
       "      <td>4.0.3 and up</td>\n",
       "    </tr>\n",
       "  </tbody>\n",
       "</table>\n",
       "</div>"
      ],
      "text/plain": [
       "                                              App        Category  Rating  \\\n",
       "0  Photo Editor & Candy Camera & Grid & ScrapBook  ART_AND_DESIGN     4.1   \n",
       "1                             Coloring book moana  ART_AND_DESIGN     3.9   \n",
       "\n",
       "  Reviews Size  Installs  Type Price Content Rating  \\\n",
       "0     159  19M   10,000+  Free     0       Everyone   \n",
       "1     967  14M  500,000+  Free     0       Everyone   \n",
       "\n",
       "                      Genres      Last Updated Current Ver   Android Ver  \n",
       "0               Art & Design   January 7, 2018       1.0.0  4.0.3 and up  \n",
       "1  Art & Design;Pretend Play  January 15, 2018       2.0.0  4.0.3 and up  "
      ]
     },
     "execution_count": 4,
     "metadata": {},
     "output_type": "execute_result"
    }
   ],
   "source": [
    "df.head(2)"
   ]
  },
  {
   "cell_type": "code",
   "execution_count": 5,
   "id": "e4e0e034-b04e-42f2-9ba9-179d2d986034",
   "metadata": {},
   "outputs": [
    {
     "data": {
      "text/html": [
       "<div>\n",
       "<style scoped>\n",
       "    .dataframe tbody tr th:only-of-type {\n",
       "        vertical-align: middle;\n",
       "    }\n",
       "\n",
       "    .dataframe tbody tr th {\n",
       "        vertical-align: top;\n",
       "    }\n",
       "\n",
       "    .dataframe thead th {\n",
       "        text-align: right;\n",
       "    }\n",
       "</style>\n",
       "<table border=\"1\" class=\"dataframe\">\n",
       "  <thead>\n",
       "    <tr style=\"text-align: right;\">\n",
       "      <th></th>\n",
       "      <th>App</th>\n",
       "      <th>Category</th>\n",
       "      <th>Rating</th>\n",
       "      <th>Reviews</th>\n",
       "      <th>Size</th>\n",
       "      <th>Installs</th>\n",
       "      <th>Type</th>\n",
       "      <th>Price</th>\n",
       "      <th>Content Rating</th>\n",
       "      <th>Genres</th>\n",
       "      <th>Last Updated</th>\n",
       "      <th>Current Ver</th>\n",
       "      <th>Android Ver</th>\n",
       "    </tr>\n",
       "  </thead>\n",
       "  <tbody>\n",
       "    <tr>\n",
       "      <th>10839</th>\n",
       "      <td>The SCP Foundation DB fr nn5n</td>\n",
       "      <td>BOOKS_AND_REFERENCE</td>\n",
       "      <td>4.5</td>\n",
       "      <td>114</td>\n",
       "      <td>Varies with device</td>\n",
       "      <td>1,000+</td>\n",
       "      <td>Free</td>\n",
       "      <td>0</td>\n",
       "      <td>Mature 17+</td>\n",
       "      <td>Books &amp; Reference</td>\n",
       "      <td>January 19, 2015</td>\n",
       "      <td>Varies with device</td>\n",
       "      <td>Varies with device</td>\n",
       "    </tr>\n",
       "    <tr>\n",
       "      <th>10840</th>\n",
       "      <td>iHoroscope - 2018 Daily Horoscope &amp; Astrology</td>\n",
       "      <td>LIFESTYLE</td>\n",
       "      <td>4.5</td>\n",
       "      <td>398307</td>\n",
       "      <td>19M</td>\n",
       "      <td>10,000,000+</td>\n",
       "      <td>Free</td>\n",
       "      <td>0</td>\n",
       "      <td>Everyone</td>\n",
       "      <td>Lifestyle</td>\n",
       "      <td>July 25, 2018</td>\n",
       "      <td>Varies with device</td>\n",
       "      <td>Varies with device</td>\n",
       "    </tr>\n",
       "  </tbody>\n",
       "</table>\n",
       "</div>"
      ],
      "text/plain": [
       "                                                 App             Category  \\\n",
       "10839                  The SCP Foundation DB fr nn5n  BOOKS_AND_REFERENCE   \n",
       "10840  iHoroscope - 2018 Daily Horoscope & Astrology            LIFESTYLE   \n",
       "\n",
       "       Rating Reviews                Size     Installs  Type Price  \\\n",
       "10839     4.5     114  Varies with device       1,000+  Free     0   \n",
       "10840     4.5  398307                 19M  10,000,000+  Free     0   \n",
       "\n",
       "      Content Rating             Genres      Last Updated         Current Ver  \\\n",
       "10839     Mature 17+  Books & Reference  January 19, 2015  Varies with device   \n",
       "10840       Everyone          Lifestyle     July 25, 2018  Varies with device   \n",
       "\n",
       "              Android Ver  \n",
       "10839  Varies with device  \n",
       "10840  Varies with device  "
      ]
     },
     "execution_count": 5,
     "metadata": {},
     "output_type": "execute_result"
    }
   ],
   "source": [
    "df.tail(2)"
   ]
  },
  {
   "cell_type": "code",
   "execution_count": 6,
   "id": "aa11642e-9f19-4430-b270-c3cdce7f43f9",
   "metadata": {},
   "outputs": [
    {
     "data": {
      "text/plain": [
       "(10841, 13)"
      ]
     },
     "execution_count": 6,
     "metadata": {},
     "output_type": "execute_result"
    }
   ],
   "source": [
    "df.shape"
   ]
  },
  {
   "cell_type": "markdown",
   "id": "3edaeb03-48f5-4c82-ba92-4a07d24c2af5",
   "metadata": {},
   "source": [
    "Q10. How does the rating of apps vary by category? Create a boxplot to compare the ratings of different\n",
    "app categories."
   ]
  },
  {
   "cell_type": "code",
   "execution_count": null,
   "id": "2e5d5dd7-6303-44b7-b120-2a4f175715c1",
   "metadata": {},
   "outputs": [],
   "source": [
    "import pandas as pd\n",
    "import matplotlib.pyplot as plt"
   ]
  },
  {
   "cell_type": "code",
   "execution_count": null,
   "id": "5241e372-019d-4fae-93b6-3b2fb907a34c",
   "metadata": {},
   "outputs": [],
   "source": [
    "\n",
    "app_categories = ['\tART_AND_DESIGN'.'']\n",
    "ratings = [\n",
    "    [4.2, 4.3, 4.0, 4.1, 4.4, 4.2],   \n",
    "    [4.5, 4.6, 4.4, 4.3, 4.2, 4.5],   \n",
    "    [4.0, 3.9, 4.2, 4.1, 4.0, 3.8],   \n",
    "    [4.3, 4.2, 4.4, 4.1, 4.5, 4.3],  \n",
    "    [4.1, 4.2, 3.9, 4.0, 4.1, 4.2]    \n",
    "]\n",
    "\n",
    "plt.boxplot(ratings)\n",
    "\n",
    "plt.title('Ratings by App Category')\n",
    "plt.xlabel('App Category')\n",
    "plt.ylabel('Rating')\n",
    "\n",
    "plt.xticks(range(1, len(app_categories) + 1), app_categories)\n",
    "\n",
    "plt.show()"
   ]
  },
  {
   "cell_type": "markdown",
   "id": "5c835cd8-a625-457f-a594-618ba041efd5",
   "metadata": {},
   "source": [
    "Q11. Are there any missing values in the dataset? Identify any missing values and describe how they may\n",
    "impact your analysis."
   ]
  },
  {
   "cell_type": "code",
   "execution_count": null,
   "id": "e399b6c1-d558-4174-8d7b-644a89264b96",
   "metadata": {},
   "outputs": [],
   "source": [
    "import pandas as pd"
   ]
  },
  {
   "cell_type": "code",
   "execution_count": 8,
   "id": "2d2ef566-4406-43cb-871c-b8ae317979d0",
   "metadata": {},
   "outputs": [
    {
     "data": {
      "text/plain": [
       "App                  0\n",
       "Category             0\n",
       "Rating            1474\n",
       "Reviews              0\n",
       "Size                 0\n",
       "Installs             0\n",
       "Type                 1\n",
       "Price                0\n",
       "Content Rating       1\n",
       "Genres               0\n",
       "Last Updated         0\n",
       "Current Ver          8\n",
       "Android Ver          3\n",
       "dtype: int64"
      ]
     },
     "execution_count": 8,
     "metadata": {},
     "output_type": "execute_result"
    }
   ],
   "source": [
    "df.isnull().sum()"
   ]
  },
  {
   "cell_type": "code",
   "execution_count": null,
   "id": "566e252f-eaad-456b-b09b-806a28d05f1a",
   "metadata": {},
   "outputs": [],
   "source": [
    "imputation technique we use for missing values then not impact on analysis."
   ]
  },
  {
   "cell_type": "markdown",
   "id": "c6384c4c-f771-406f-a04a-00e08996e0d3",
   "metadata": {},
   "source": [
    "Q12. What is the relationship between the size of an app and its rating? Create a scatter plot to visualize\n",
    "the relationship."
   ]
  },
  {
   "cell_type": "code",
   "execution_count": 14,
   "id": "9179a713-163f-4006-82f0-08dfef354098",
   "metadata": {},
   "outputs": [],
   "source": [
    "import pandas as pd\n",
    "import seaborn as sns\n",
    "import matplotlib.pyplot as plt"
   ]
  },
  {
   "cell_type": "code",
   "execution_count": 15,
   "id": "cce74d32-e34e-49f5-b726-b06a5f04fb42",
   "metadata": {},
   "outputs": [
    {
     "data": {
      "image/png": "[encoded data removed]",
      "text/plain": [
       "<Figure size 640x480 with 1 Axes>"
      ]
     },
     "metadata": {},
     "output_type": "display_data"
    }
   ],
   "source": [
    "\n",
    "app_sizes = ['19mb','14mb','8.7mb','25mb',] \n",
    "app_ratings = ['159','967','87510','215644']  \n",
    "\n",
    "plt.scatter(app_sizes, app_ratings)\n",
    "\n",
    "\n",
    "plt.title('Relationship between App Size and Rating')\n",
    "plt.xlabel('App Size (MB)')\n",
    "plt.ylabel('App Rating')\n",
    " \n",
    "plt.show()"
   ]
  },
  {
   "cell_type": "markdown",
   "id": "50aa8950-2003-4b48-8de2-2dff073a71ef",
   "metadata": {},
   "source": [
    "Q13. How does the type of app affect its price? Create a bar chart to compare average prices by app type."
   ]
  },
  {
   "cell_type": "code",
   "execution_count": 6,
   "id": "c9a82198-05bc-4522-8239-71c5e2008a40",
   "metadata": {},
   "outputs": [],
   "source": [
    "import pandas as pd\n",
    "import seaborn as sns\n",
    "import matplotlib.pyplot as plt"
   ]
  },
  {
   "cell_type": "code",
   "execution_count": 8,
   "id": "a5b1e296-032c-4250-b5fc-13f4dbeda508",
   "metadata": {},
   "outputs": [
    {
     "data": {
      "image/png": "[encoded data removed]",
      "text/plain": [
       "<Figure size 640x480 with 1 Axes>"
      ]
     },
     "metadata": {},
     "output_type": "display_data"
    }
   ],
   "source": [
    "\n",
    "app_types = ['The SCP Foundation DB fr nn5n','iHoroscope - 2018 Daily Horoscope & Astrology']\n",
    "average_prices = [150, 200 ]\n",
    "\n",
    "plt.bar(app_types, average_prices)\n",
    "\n",
    "plt.title('Average Prices by App Type')\n",
    "plt.xlabel('App Type')\n",
    "plt.ylabel('Average Price')\n",
    "\n",
    "plt.show()"
   ]
  },
  {
   "cell_type": "markdown",
   "id": "bbd42320-1b5f-40f0-88fb-8328670c6765",
   "metadata": {},
   "source": [
    "Q14. What are the top 10 most popular apps in the dataset? Create a frequency table to identify the apps\n",
    "with the highest number of installs."
   ]
  },
  {
   "cell_type": "code",
   "execution_count": 23,
   "id": "4362b12f-6a9f-437d-8f55-1f7f94c0349f",
   "metadata": {},
   "outputs": [],
   "source": [
    "import pandas as pd"
   ]
  },
  {
   "cell_type": "code",
   "execution_count": 24,
   "id": "44d1e569-ff5a-4647-a2da-511b064136c6",
   "metadata": {},
   "outputs": [],
   "source": [
    "df=df['App'][0:10]"
   ]
  },
  {
   "cell_type": "code",
   "execution_count": 25,
   "id": "56df6bf8-4776-4897-bb22-38558fed951e",
   "metadata": {},
   "outputs": [
    {
     "data": {
      "text/plain": [
       "0       Photo Editor & Candy Camera & Grid & ScrapBook\n",
       "1                                  Coloring book moana\n",
       "2    U Launcher Lite – FREE Live Cool Themes, Hide ...\n",
       "3                                Sketch - Draw & Paint\n",
       "4                Pixel Draw - Number Art Coloring Book\n",
       "5                           Paper flowers instructions\n",
       "6              Smoke Effect Photo Maker - Smoke Editor\n",
       "7                                     Infinite Painter\n",
       "8                                 Garden Coloring Book\n",
       "9                        Kids Paint Free - Drawing Fun\n",
       "Name: App, dtype: object"
      ]
     },
     "execution_count": 25,
     "metadata": {},
     "output_type": "execute_result"
    }
   ],
   "source": [
    "df"
   ]
  },
  {
   "cell_type": "markdown",
   "id": "ebe86b44-a966-486b-8fd5-c295f5cba70f",
   "metadata": {},
   "source": [
    "Q15. A company wants to launch a new app on the Google Playstore and has asked you to analyze the\n",
    "Google Playstore dataset to identify the most popular app categories. How would you approach this\n",
    "task, and what features would you analyze to make recommendations to the company?"
   ]
  },
  {
   "cell_type": "code",
   "execution_count": null,
   "id": "5a6377ba-83bc-409f-acfd-b640cd16a9f7",
   "metadata": {},
   "outputs": [],
   "source": [
    "Ans:-\n",
    "    i.get data from the google playsore\n",
    "    ii.Data cleaning & preprocessing\n",
    "    iii.Data exploration& visualization\n",
    "    iv.Analyze app categories\n",
    "    \n",
    "    consider the specific objectives and target audience of the company when making recommendations."
   ]
  },
  {
   "cell_type": "markdown",
   "id": "5f2b9bd2-e62f-4cae-8157-f1719317592b",
   "metadata": {},
   "source": [
    "Q16. A mobile app development company wants to analyze the Google Playstore dataset to identify the\n",
    "most successful app developers. What features would you analyze to make recommendations to the\n",
    "company, and what data visualizations would you use to present your findings?"
   ]
  },
  {
   "cell_type": "code",
   "execution_count": null,
   "id": "5708273f-33cf-46e0-bf66-c69d1123dd3b",
   "metadata": {},
   "outputs": [],
   "source": [
    "Ans:-\n",
    "     i.Developers names\n",
    "      ii.App rating & reviews\n",
    "        iii.no. of install\n",
    "          iv.app category\n",
    "            \n",
    "            Data Visualization :-\n",
    "            \n",
    "            Bar plot,scatter plot,line plot,pie chart ,heatmap.\n",
    "     "
   ]
  },
  {
   "cell_type": "markdown",
   "id": "5b9f4aaf-555a-4b2a-b553-cddf09238c5e",
   "metadata": {},
   "source": [
    "Q17. A marketing research firm wants to analyze the Google Playstore dataset to identify the best time to\n",
    "launch a new app. What features would you analyze to make recommendations to the company, and\n",
    "what data visualizations would you use to present your findings?"
   ]
  },
  {
   "cell_type": "code",
   "execution_count": null,
   "id": "8a1feda6-f8e8-460e-aad2-b4410bd8ab71",
   "metadata": {},
   "outputs": [],
   "source": [
    "Ans:-\n",
    "     i.app date release\n",
    "      ii.no. of install\n",
    "        iii.app rating & reviews\n",
    "          iv.app category\n",
    "            \n",
    "            \n",
    "            \n",
    "            Data visualization:-\n",
    "            \n",
    "            Line plot, Bar plot, scatter plot."
   ]
  }
 ],
 "metadata": {
  "kernelspec": {
   "display_name": "Python 3 (ipykernel)",
   "language": "python",
   "name": "python3"
  },
  "language_info": {
   "codemirror_mode": {
    "name": "ipython",
    "version": 3
   },
   "file_extension": ".py",
   "mimetype": "text/x-python",
   "name": "python",
   "nbconvert_exporter": "python",
   "pygments_lexer": "ipython3",
   "version": "3.10.8"
  }
 },
 "nbformat": 4,
 "nbformat_minor": 5
}
